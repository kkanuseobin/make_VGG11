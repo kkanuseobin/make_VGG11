{
 "cells": [
  {
   "cell_type": "code",
   "execution_count": 1,
   "id": "99c3d52b",
   "metadata": {},
   "outputs": [],
   "source": [
    "import torch\n",
    "import imp\n",
    "import numpy as np\n",
    "from PIL import Image"
   ]
  },
  {
   "cell_type": "code",
   "execution_count": 2,
   "id": "49934d61",
   "metadata": {},
   "outputs": [
    {
     "data": {
      "text/plain": [
       "RecursiveScriptModule(\n",
       "  original_name=VGG_A\n",
       "  (convnet): RecursiveScriptModule(\n",
       "    original_name=Sequential\n",
       "    (0): RecursiveScriptModule(original_name=Conv2d)\n",
       "    (1): RecursiveScriptModule(original_name=ReLU)\n",
       "    (2): RecursiveScriptModule(original_name=MaxPool2d)\n",
       "    (3): RecursiveScriptModule(original_name=Conv2d)\n",
       "    (4): RecursiveScriptModule(original_name=ReLU)\n",
       "    (5): RecursiveScriptModule(original_name=MaxPool2d)\n",
       "    (6): RecursiveScriptModule(original_name=Conv2d)\n",
       "    (7): RecursiveScriptModule(original_name=ReLU)\n",
       "    (8): RecursiveScriptModule(original_name=Conv2d)\n",
       "    (9): RecursiveScriptModule(original_name=ReLU)\n",
       "    (10): RecursiveScriptModule(original_name=MaxPool2d)\n",
       "    (11): RecursiveScriptModule(original_name=Conv2d)\n",
       "    (12): RecursiveScriptModule(original_name=ReLU)\n",
       "    (13): RecursiveScriptModule(original_name=Conv2d)\n",
       "    (14): RecursiveScriptModule(original_name=ReLU)\n",
       "    (15): RecursiveScriptModule(original_name=MaxPool2d)\n",
       "    (16): RecursiveScriptModule(original_name=Conv2d)\n",
       "    (17): RecursiveScriptModule(original_name=ReLU)\n",
       "    (18): RecursiveScriptModule(original_name=Conv2d)\n",
       "    (19): RecursiveScriptModule(original_name=ReLU)\n",
       "    (20): RecursiveScriptModule(original_name=MaxPool2d)\n",
       "  )\n",
       "  (fclayer): RecursiveScriptModule(\n",
       "    original_name=Sequential\n",
       "    (0): RecursiveScriptModule(original_name=Linear)\n",
       "    (1): RecursiveScriptModule(original_name=ReLU)\n",
       "    (2): RecursiveScriptModule(original_name=Dropout)\n",
       "    (3): RecursiveScriptModule(original_name=Linear)\n",
       "    (4): RecursiveScriptModule(original_name=ReLU)\n",
       "    (5): RecursiveScriptModule(original_name=Dropout)\n",
       "    (6): RecursiveScriptModule(original_name=Linear)\n",
       "  )\n",
       ")"
      ]
     },
     "execution_count": 2,
     "metadata": {},
     "output_type": "execute_result"
    }
   ],
   "source": [
    "# 모델 불러오기!!@!\n",
    "vgg11 = torch.jit.load('vgg11.pth')\n",
    "vgg11.eval()"
   ]
  },
  {
   "cell_type": "code",
   "execution_count": 5,
   "id": "aeb57a70",
   "metadata": {},
   "outputs": [
    {
     "name": "stdout",
     "output_type": "stream",
     "text": [
      "DJI_Air2S\n"
     ]
    }
   ],
   "source": [
    "# 클래스 지정\n",
    "classes =  ('DJI_Air2S', 'DJI_FPVcomdo', 'DJI_Mini2', 'DJI_Phatom4Pro', 'DJI_Tello', 'DJI_Phantom3')\n",
    "\n",
    "correct = 0\n",
    "total = 0\n",
    "\n",
    "# 이미지를 불러올 path 지정\n",
    "folder_path = '../0_detection/yolov5-master/runs/detect/exp3/crops/'\n",
    "\n",
    "target_data = []\n",
    "\n",
    "# 이미지 열기\n",
    "target_img = Image.open(folder_path+\"스크린샷, 2022-08-12 17-31-04.jpg\")\n",
    "resize_target_img = target_img.resize((224, 224))\n",
    "r, g, b = resize_target_img.split()\n",
    "# 각 쪼갠 이미지를 255로 나눠서 0~1 사이의 값이 나오도록 정규화 한다.\n",
    "r_resize_img = np.asarray(np.float32(r) / 255.0)\n",
    "b_resize_img = np.asarray(np.float32(g) / 255.0)\n",
    "g_resize_img = np.asarray(np.float32(b) / 255.0)\n",
    "\n",
    "# 잘 붙여서 pytorch가 원하는 format으로 변경\n",
    "rgb_target_img = np.asarray([r_resize_img, b_resize_img, g_resize_img])\n",
    "target_data.append(rgb_target_img)\n",
    "target_data = np.array(target_data, dtype='float32')\n",
    "target_data = torch.from_numpy(target_data).float()\n",
    "\n",
    "# 맞춰보자!\n",
    "with torch.no_grad():\n",
    "    vgg11.eval()\n",
    "    images = target_data.cuda()\n",
    "    outputs = vgg11(images).cuda()\n",
    "    predicted = torch.argmax(outputs)\n",
    "    # predict한 class 출력\n",
    "    print(classes[predicted])"
   ]
  },
  {
   "cell_type": "code",
   "execution_count": null,
   "id": "e686470d",
   "metadata": {},
   "outputs": [],
   "source": []
  }
 ],
 "metadata": {
  "kernelspec": {
   "display_name": "pytorch",
   "language": "python",
   "name": "pytorch"
  },
  "language_info": {
   "codemirror_mode": {
    "name": "ipython",
    "version": 3
   },
   "file_extension": ".py",
   "mimetype": "text/x-python",
   "name": "python",
   "nbconvert_exporter": "python",
   "pygments_lexer": "ipython3",
   "version": "3.8.13"
  }
 },
 "nbformat": 4,
 "nbformat_minor": 5
}
